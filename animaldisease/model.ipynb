{
 "cells": [
  {
   "cell_type": "code",
   "execution_count": 1,
   "metadata": {},
   "outputs": [],
   "source": [
    "import pandas as pd\n",
    "from sklearn.model_selection import train_test_split"
   ]
  },
  {
   "cell_type": "code",
   "execution_count": 2,
   "metadata": {},
   "outputs": [],
   "source": [
    "# Assuming your dataset is in a CSV file named 'dataset.csv'\n",
    "df = pd.read_csv('data.csv', encoding='ISO-8859-1')"
   ]
  },
  {
   "cell_type": "code",
   "execution_count": 3,
   "metadata": {},
   "outputs": [
    {
     "data": {
      "text/html": [
       "<div>\n",
       "<style scoped>\n",
       "    .dataframe tbody tr th:only-of-type {\n",
       "        vertical-align: middle;\n",
       "    }\n",
       "\n",
       "    .dataframe tbody tr th {\n",
       "        vertical-align: top;\n",
       "    }\n",
       "\n",
       "    .dataframe thead th {\n",
       "        text-align: right;\n",
       "    }\n",
       "</style>\n",
       "<table border=\"1\" class=\"dataframe\">\n",
       "  <thead>\n",
       "    <tr style=\"text-align: right;\">\n",
       "      <th></th>\n",
       "      <th>AnimalName</th>\n",
       "      <th>Symptoms1</th>\n",
       "      <th>Symptoms2</th>\n",
       "      <th>Symptoms3</th>\n",
       "      <th>Symptoms4</th>\n",
       "      <th>Symptoms5</th>\n",
       "      <th>AnimalGroup</th>\n",
       "      <th>Diel Activity</th>\n",
       "      <th>Mean Body Temperature (°C)</th>\n",
       "      <th>Dangerous</th>\n",
       "    </tr>\n",
       "  </thead>\n",
       "  <tbody>\n",
       "    <tr>\n",
       "      <th>0</th>\n",
       "      <td>Birds</td>\n",
       "      <td>Liquid Dropping</td>\n",
       "      <td>Exhaustion</td>\n",
       "      <td>Ataxia</td>\n",
       "      <td>Lethargy</td>\n",
       "      <td>Seizures</td>\n",
       "      <td>Aves</td>\n",
       "      <td>Diurnal</td>\n",
       "      <td>41.5 °C</td>\n",
       "      <td>Yes</td>\n",
       "    </tr>\n",
       "    <tr>\n",
       "      <th>1</th>\n",
       "      <td>Birds</td>\n",
       "      <td>Bony Lesion</td>\n",
       "      <td>Skin Rashes</td>\n",
       "      <td>Ataxia</td>\n",
       "      <td>Anorexia</td>\n",
       "      <td>Weakness</td>\n",
       "      <td>Aves</td>\n",
       "      <td>Diurnal</td>\n",
       "      <td>41.5 °C</td>\n",
       "      <td>Yes</td>\n",
       "    </tr>\n",
       "    <tr>\n",
       "      <th>2</th>\n",
       "      <td>Birds</td>\n",
       "      <td>Legness</td>\n",
       "      <td>Paresis</td>\n",
       "      <td>Coughing</td>\n",
       "      <td>Weight loss</td>\n",
       "      <td>Shortness of breath</td>\n",
       "      <td>Aves</td>\n",
       "      <td>Diurnal</td>\n",
       "      <td>41.5 °C</td>\n",
       "      <td>Yes</td>\n",
       "    </tr>\n",
       "    <tr>\n",
       "      <th>3</th>\n",
       "      <td>Birds</td>\n",
       "      <td>Fluffed Feather</td>\n",
       "      <td>Loss of appetite</td>\n",
       "      <td>Coughing</td>\n",
       "      <td>Vomiting</td>\n",
       "      <td>Snoring</td>\n",
       "      <td>Aves</td>\n",
       "      <td>Diurnal</td>\n",
       "      <td>41.5 °C</td>\n",
       "      <td>Yes</td>\n",
       "    </tr>\n",
       "    <tr>\n",
       "      <th>4</th>\n",
       "      <td>Birds</td>\n",
       "      <td>Skin infection</td>\n",
       "      <td>Secondary Infection</td>\n",
       "      <td>Coughing</td>\n",
       "      <td>Depression</td>\n",
       "      <td>Shaking oh head</td>\n",
       "      <td>Aves</td>\n",
       "      <td>Diurnal</td>\n",
       "      <td>41.5 °C</td>\n",
       "      <td>Yes</td>\n",
       "    </tr>\n",
       "  </tbody>\n",
       "</table>\n",
       "</div>"
      ],
      "text/plain": [
       "  AnimalName        Symptoms1            Symptoms2 Symptoms3    Symptoms4  \\\n",
       "0      Birds  Liquid Dropping           Exhaustion    Ataxia     Lethargy   \n",
       "1      Birds      Bony Lesion          Skin Rashes    Ataxia     Anorexia   \n",
       "2      Birds          Legness              Paresis  Coughing  Weight loss   \n",
       "3      Birds  Fluffed Feather     Loss of appetite  Coughing     Vomiting   \n",
       "4      Birds   Skin infection  Secondary Infection  Coughing   Depression   \n",
       "\n",
       "             Symptoms5 AnimalGroup Diel Activity Mean Body Temperature (°C)  \\\n",
       "0             Seizures        Aves       Diurnal                    41.5 °C   \n",
       "1             Weakness        Aves       Diurnal                    41.5 °C   \n",
       "2  Shortness of breath        Aves       Diurnal                    41.5 °C   \n",
       "3              Snoring        Aves       Diurnal                    41.5 °C   \n",
       "4      Shaking oh head        Aves       Diurnal                    41.5 °C   \n",
       "\n",
       "  Dangerous  \n",
       "0       Yes  \n",
       "1       Yes  \n",
       "2       Yes  \n",
       "3       Yes  \n",
       "4       Yes  "
      ]
     },
     "execution_count": 3,
     "metadata": {},
     "output_type": "execute_result"
    }
   ],
   "source": [
    "df.head()"
   ]
  },
  {
   "cell_type": "code",
   "execution_count": 4,
   "metadata": {},
   "outputs": [
    {
     "name": "stdout",
     "output_type": "stream",
     "text": [
      "            AnimalName                    Symptoms1            Symptoms2  \\\n",
      "0                Birds              Liquid Dropping           Exhaustion   \n",
      "1                Birds                  Bony Lesion          Skin Rashes   \n",
      "2                Birds                      Legness              Paresis   \n",
      "3                Birds              Fluffed Feather     Loss of appetite   \n",
      "4                Birds               Skin infection  Secondary Infection   \n",
      "..                 ...                          ...                  ...   \n",
      "422             Turtle         Bubbles in the mouth             Wheezing   \n",
      "423             Turtle  Changes in outer layer skin      Swelling of eye   \n",
      "424             Turtle                    Red Tinge  Slim over the shell   \n",
      "425             Turtle   Passing of undigested food             Diarrhea   \n",
      "426  White-tailed deer                      wasting            stumbling   \n",
      "\n",
      "            Symptoms3            Symptoms4              Symptoms5 AnimalGroup  \\\n",
      "0              Ataxia             Lethargy               Seizures        Aves   \n",
      "1              Ataxia             Anorexia               Weakness        Aves   \n",
      "2            Coughing          Weight loss    Shortness of breath        Aves   \n",
      "3            Coughing             Vomiting                Snoring        Aves   \n",
      "4            Coughing           Depression        Shaking oh head        Aves   \n",
      "..                ...                  ...                    ...         ...   \n",
      "422  loss of appetite             Lethargy        Nasal Discharge  Ectotherms   \n",
      "423  loss of appetite             Lethargy  Respiratory infection  Ectotherms   \n",
      "424         Bad smell  Easily damage shell  Flaking of the Scutes  Ectotherms   \n",
      "425          Vomiting      Gas or bloating            Dehydration  Ectotherms   \n",
      "426      listlessness             drooling          drooping ears     Mammals   \n",
      "\n",
      "    Diel Activity Mean Body Temperature (°C) Dangerous  MeanBodyTemperature  \\\n",
      "0         Diurnal                    41.5 °C       Yes                 41.5   \n",
      "1         Diurnal                    41.5 °C       Yes                 41.5   \n",
      "2         Diurnal                    41.5 °C       Yes                 41.5   \n",
      "3         Diurnal                    41.5 °C       Yes                 41.5   \n",
      "4         Diurnal                    41.5 °C       Yes                 41.5   \n",
      "..            ...                        ...       ...                  ...   \n",
      "422       Diurnal                    27.2 °C       Yes                 27.2   \n",
      "423       Diurnal                    27.2 °C       Yes                 27.2   \n",
      "424       Diurnal                    27.2 °C       Yes                 27.2   \n",
      "425       Diurnal                    27.2 °C       Yes                 27.2   \n",
      "426       Diurnal                    37.3 °C       Yes                 37.3   \n",
      "\n",
      "    DielActivity  \n",
      "0        Diurnal  \n",
      "1        Diurnal  \n",
      "2        Diurnal  \n",
      "3        Diurnal  \n",
      "4        Diurnal  \n",
      "..           ...  \n",
      "422      Diurnal  \n",
      "423      Diurnal  \n",
      "424      Diurnal  \n",
      "425      Diurnal  \n",
      "426      Diurnal  \n",
      "\n",
      "[427 rows x 12 columns]\n"
     ]
    }
   ],
   "source": [
    "# Remove '°C' from the 'temperature' column and convert it to a numeric value\n",
    "df['MeanBodyTemperature'] = df['Mean Body Temperature (°C)'].str.replace('°C', '').astype(float)\n",
    "df['DielActivity'] = df['Diel Activity']\n",
    "df['DielActivity'] = df['Diel Activity']\n",
    "\n",
    "# Display the cleaned DataFrame\n",
    "print(df)"
   ]
  },
  {
   "cell_type": "code",
   "execution_count": 5,
   "metadata": {},
   "outputs": [
    {
     "name": "stdout",
     "output_type": "stream",
     "text": [
      "\n",
      "Encoded Dataset:\n",
      "  AnimalName        Symptoms1            Symptoms2 Symptoms3    Symptoms4  \\\n",
      "0      Birds  Liquid Dropping           Exhaustion    Ataxia     Lethargy   \n",
      "1      Birds      Bony Lesion          Skin Rashes    Ataxia     Anorexia   \n",
      "2      Birds          Legness              Paresis  Coughing  Weight loss   \n",
      "3      Birds  Fluffed Feather     Loss of appetite  Coughing     Vomiting   \n",
      "4      Birds   Skin infection  Secondary Infection  Coughing   Depression   \n",
      "\n",
      "             Symptoms5 AnimalGroup Diel Activity Mean Body Temperature (°C)  \\\n",
      "0             Seizures        Aves       Diurnal                    41.5 °C   \n",
      "1             Weakness        Aves       Diurnal                    41.5 °C   \n",
      "2  Shortness of breath        Aves       Diurnal                    41.5 °C   \n",
      "3              Snoring        Aves       Diurnal                    41.5 °C   \n",
      "4      Shaking oh head        Aves       Diurnal                    41.5 °C   \n",
      "\n",
      "  Dangerous  MeanBodyTemperature DielActivity  AnimalName_en  Symptoms1_en  \\\n",
      "0       Yes                 41.5      Diurnal              0            73   \n",
      "1       Yes                 41.5      Diurnal              0            16   \n",
      "2       Yes                 41.5      Diurnal              0            67   \n",
      "3       Yes                 41.5      Diurnal              0            48   \n",
      "4       Yes                 41.5      Diurnal              0           115   \n",
      "\n",
      "   Symptoms2_en  Symptoms3_en  Symptoms4_en  Symptoms5_en  AnimalGroup_en  \\\n",
      "0            39             4            62           102               0   \n",
      "1           111             4             3           129               0   \n",
      "2            90            19           125           107               0   \n",
      "3            75            19           118           112               0   \n",
      "4           107            19            25           105               0   \n",
      "\n",
      "   DielActivity_en  \n",
      "0                0  \n",
      "1                0  \n",
      "2                0  \n",
      "3                0  \n",
      "4                0  \n"
     ]
    }
   ],
   "source": [
    "from sklearn.preprocessing import LabelEncoder\n",
    "\n",
    "# Define the columns to be encoded\n",
    "categorical_cols = ['AnimalName', 'Symptoms1', 'Symptoms2', \n",
    "                    'Symptoms3', 'Symptoms4', 'Symptoms5', 'AnimalGroup', 'DielActivity']\n",
    "\n",
    "# Initialize the LabelEncoder\n",
    "label_encoder_X = {}\n",
    "\n",
    "# Encode categorical variables\n",
    "for col in categorical_cols:\n",
    "    label_encoder_X[col] = LabelEncoder()\n",
    "    df[col + '_en'] = label_encoder_X[col].fit_transform(df[col])\n",
    "\n",
    "# Display the first few rows of the dataset with encoded variables\n",
    "print(\"\\nEncoded Dataset:\")\n",
    "print(df.head())"
   ]
  },
  {
   "cell_type": "code",
   "execution_count": 6,
   "metadata": {},
   "outputs": [],
   "source": [
    "# Separate features (X) and target variable (y)\n",
    "selected_columns = ['AnimalName_en', 'Symptoms1_en', 'Symptoms2_en', 'Symptoms3_en', 'Symptoms4_en', 'Symptoms5_en', 'AnimalGroup_en', 'DielActivity_en', 'MeanBodyTemperature']\n",
    "X = df[selected_columns]\n",
    "y = df['Dangerous']"
   ]
  },
  {
   "cell_type": "code",
   "execution_count": 7,
   "metadata": {},
   "outputs": [],
   "source": [
    "from sklearn.preprocessing import LabelEncoder\n",
    "\n",
    "# Encode target variable using LabelEncoder\n",
    "label_encoder_Y = LabelEncoder()\n",
    "y = label_encoder_Y.fit_transform(y)"
   ]
  },
  {
   "cell_type": "code",
   "execution_count": 8,
   "metadata": {},
   "outputs": [],
   "source": [
    "# Split the dataset into training and testing sets\n",
    "X_train, X_test, y_train, y_test = train_test_split(X, y, test_size=0.2, random_state=42)"
   ]
  },
  {
   "cell_type": "code",
   "execution_count": 9,
   "metadata": {},
   "outputs": [
    {
     "data": {
      "text/plain": [
       "AnimalName_en            int32\n",
       "Symptoms1_en             int32\n",
       "Symptoms2_en             int32\n",
       "Symptoms3_en             int32\n",
       "Symptoms4_en             int32\n",
       "Symptoms5_en             int32\n",
       "AnimalGroup_en           int32\n",
       "DielActivity_en          int32\n",
       "MeanBodyTemperature    float64\n",
       "dtype: object"
      ]
     },
     "execution_count": 9,
     "metadata": {},
     "output_type": "execute_result"
    }
   ],
   "source": [
    "X.dtypes"
   ]
  },
  {
   "cell_type": "code",
   "execution_count": 10,
   "metadata": {},
   "outputs": [
    {
     "name": "stderr",
     "output_type": "stream",
     "text": [
      "g:\\GitHub\\Zootopia\\animaldetect\\Lib\\site-packages\\keras\\src\\layers\\core\\dense.py:87: UserWarning: Do not pass an `input_shape`/`input_dim` argument to a layer. When using Sequential models, prefer using an `Input(shape)` object as the first layer in the model instead.\n",
      "  super().__init__(activity_regularizer=activity_regularizer, **kwargs)\n"
     ]
    }
   ],
   "source": [
    "import tensorflow as tf\n",
    "from tensorflow.keras.models import Sequential\n",
    "from tensorflow.keras.layers import Dense, Dropout\n",
    "\n",
    "# Define the neural network model\n",
    "model = Sequential([\n",
    "    # Input layer with 10 nodes\n",
    "    Dense(128, activation='relu', input_shape=(9,)),\n",
    "    Dropout(0.5),\n",
    "    Dense(64, activation='relu'),\n",
    "    Dropout(0.5),\n",
    "    # Output layer with appropriate activation function\n",
    "    Dense(5, activation='softmax')  # Assuming 3 classes for the output\n",
    "])\n",
    "\n",
    "# Compile the model\n",
    "model.compile(optimizer='adam',\n",
    "              loss='sparse_categorical_crossentropy',  # Use sparse categorical crossentropy for integer labels\n",
    "              metrics=['accuracy'])\n"
   ]
  },
  {
   "cell_type": "code",
   "execution_count": 11,
   "metadata": {},
   "outputs": [
    {
     "data": {
      "text/html": [
       "<pre style=\"white-space:pre;overflow-x:auto;line-height:normal;font-family:Menlo,'DejaVu Sans Mono',consolas,'Courier New',monospace\"><span style=\"font-weight: bold\">Model: \"sequential\"</span>\n",
       "</pre>\n"
      ],
      "text/plain": [
       "\u001b[1mModel: \"sequential\"\u001b[0m\n"
      ]
     },
     "metadata": {},
     "output_type": "display_data"
    },
    {
     "data": {
      "text/html": [
       "<pre style=\"white-space:pre;overflow-x:auto;line-height:normal;font-family:Menlo,'DejaVu Sans Mono',consolas,'Courier New',monospace\">┏━━━━━━━━━━━━━━━━━━━━━━━━━━━━━━━━━┳━━━━━━━━━━━━━━━━━━━━━━━━┳━━━━━━━━━━━━━━━┓\n",
       "┃<span style=\"font-weight: bold\"> Layer (type)                    </span>┃<span style=\"font-weight: bold\"> Output Shape           </span>┃<span style=\"font-weight: bold\">       Param # </span>┃\n",
       "┡━━━━━━━━━━━━━━━━━━━━━━━━━━━━━━━━━╇━━━━━━━━━━━━━━━━━━━━━━━━╇━━━━━━━━━━━━━━━┩\n",
       "│ dense (<span style=\"color: #0087ff; text-decoration-color: #0087ff\">Dense</span>)                   │ (<span style=\"color: #00d7ff; text-decoration-color: #00d7ff\">None</span>, <span style=\"color: #00af00; text-decoration-color: #00af00\">128</span>)            │         <span style=\"color: #00af00; text-decoration-color: #00af00\">1,280</span> │\n",
       "├─────────────────────────────────┼────────────────────────┼───────────────┤\n",
       "│ dropout (<span style=\"color: #0087ff; text-decoration-color: #0087ff\">Dropout</span>)               │ (<span style=\"color: #00d7ff; text-decoration-color: #00d7ff\">None</span>, <span style=\"color: #00af00; text-decoration-color: #00af00\">128</span>)            │             <span style=\"color: #00af00; text-decoration-color: #00af00\">0</span> │\n",
       "├─────────────────────────────────┼────────────────────────┼───────────────┤\n",
       "│ dense_1 (<span style=\"color: #0087ff; text-decoration-color: #0087ff\">Dense</span>)                 │ (<span style=\"color: #00d7ff; text-decoration-color: #00d7ff\">None</span>, <span style=\"color: #00af00; text-decoration-color: #00af00\">64</span>)             │         <span style=\"color: #00af00; text-decoration-color: #00af00\">8,256</span> │\n",
       "├─────────────────────────────────┼────────────────────────┼───────────────┤\n",
       "│ dropout_1 (<span style=\"color: #0087ff; text-decoration-color: #0087ff\">Dropout</span>)             │ (<span style=\"color: #00d7ff; text-decoration-color: #00d7ff\">None</span>, <span style=\"color: #00af00; text-decoration-color: #00af00\">64</span>)             │             <span style=\"color: #00af00; text-decoration-color: #00af00\">0</span> │\n",
       "├─────────────────────────────────┼────────────────────────┼───────────────┤\n",
       "│ dense_2 (<span style=\"color: #0087ff; text-decoration-color: #0087ff\">Dense</span>)                 │ (<span style=\"color: #00d7ff; text-decoration-color: #00d7ff\">None</span>, <span style=\"color: #00af00; text-decoration-color: #00af00\">5</span>)              │           <span style=\"color: #00af00; text-decoration-color: #00af00\">325</span> │\n",
       "└─────────────────────────────────┴────────────────────────┴───────────────┘\n",
       "</pre>\n"
      ],
      "text/plain": [
       "┏━━━━━━━━━━━━━━━━━━━━━━━━━━━━━━━━━┳━━━━━━━━━━━━━━━━━━━━━━━━┳━━━━━━━━━━━━━━━┓\n",
       "┃\u001b[1m \u001b[0m\u001b[1mLayer (type)                   \u001b[0m\u001b[1m \u001b[0m┃\u001b[1m \u001b[0m\u001b[1mOutput Shape          \u001b[0m\u001b[1m \u001b[0m┃\u001b[1m \u001b[0m\u001b[1m      Param #\u001b[0m\u001b[1m \u001b[0m┃\n",
       "┡━━━━━━━━━━━━━━━━━━━━━━━━━━━━━━━━━╇━━━━━━━━━━━━━━━━━━━━━━━━╇━━━━━━━━━━━━━━━┩\n",
       "│ dense (\u001b[38;5;33mDense\u001b[0m)                   │ (\u001b[38;5;45mNone\u001b[0m, \u001b[38;5;34m128\u001b[0m)            │         \u001b[38;5;34m1,280\u001b[0m │\n",
       "├─────────────────────────────────┼────────────────────────┼───────────────┤\n",
       "│ dropout (\u001b[38;5;33mDropout\u001b[0m)               │ (\u001b[38;5;45mNone\u001b[0m, \u001b[38;5;34m128\u001b[0m)            │             \u001b[38;5;34m0\u001b[0m │\n",
       "├─────────────────────────────────┼────────────────────────┼───────────────┤\n",
       "│ dense_1 (\u001b[38;5;33mDense\u001b[0m)                 │ (\u001b[38;5;45mNone\u001b[0m, \u001b[38;5;34m64\u001b[0m)             │         \u001b[38;5;34m8,256\u001b[0m │\n",
       "├─────────────────────────────────┼────────────────────────┼───────────────┤\n",
       "│ dropout_1 (\u001b[38;5;33mDropout\u001b[0m)             │ (\u001b[38;5;45mNone\u001b[0m, \u001b[38;5;34m64\u001b[0m)             │             \u001b[38;5;34m0\u001b[0m │\n",
       "├─────────────────────────────────┼────────────────────────┼───────────────┤\n",
       "│ dense_2 (\u001b[38;5;33mDense\u001b[0m)                 │ (\u001b[38;5;45mNone\u001b[0m, \u001b[38;5;34m5\u001b[0m)              │           \u001b[38;5;34m325\u001b[0m │\n",
       "└─────────────────────────────────┴────────────────────────┴───────────────┘\n"
      ]
     },
     "metadata": {},
     "output_type": "display_data"
    },
    {
     "data": {
      "text/html": [
       "<pre style=\"white-space:pre;overflow-x:auto;line-height:normal;font-family:Menlo,'DejaVu Sans Mono',consolas,'Courier New',monospace\"><span style=\"font-weight: bold\"> Total params: </span><span style=\"color: #00af00; text-decoration-color: #00af00\">9,861</span> (38.52 KB)\n",
       "</pre>\n"
      ],
      "text/plain": [
       "\u001b[1m Total params: \u001b[0m\u001b[38;5;34m9,861\u001b[0m (38.52 KB)\n"
      ]
     },
     "metadata": {},
     "output_type": "display_data"
    },
    {
     "data": {
      "text/html": [
       "<pre style=\"white-space:pre;overflow-x:auto;line-height:normal;font-family:Menlo,'DejaVu Sans Mono',consolas,'Courier New',monospace\"><span style=\"font-weight: bold\"> Trainable params: </span><span style=\"color: #00af00; text-decoration-color: #00af00\">9,861</span> (38.52 KB)\n",
       "</pre>\n"
      ],
      "text/plain": [
       "\u001b[1m Trainable params: \u001b[0m\u001b[38;5;34m9,861\u001b[0m (38.52 KB)\n"
      ]
     },
     "metadata": {},
     "output_type": "display_data"
    },
    {
     "data": {
      "text/html": [
       "<pre style=\"white-space:pre;overflow-x:auto;line-height:normal;font-family:Menlo,'DejaVu Sans Mono',consolas,'Courier New',monospace\"><span style=\"font-weight: bold\"> Non-trainable params: </span><span style=\"color: #00af00; text-decoration-color: #00af00\">0</span> (0.00 B)\n",
       "</pre>\n"
      ],
      "text/plain": [
       "\u001b[1m Non-trainable params: \u001b[0m\u001b[38;5;34m0\u001b[0m (0.00 B)\n"
      ]
     },
     "metadata": {},
     "output_type": "display_data"
    }
   ],
   "source": [
    "model.summary()"
   ]
  },
  {
   "cell_type": "code",
   "execution_count": 12,
   "metadata": {},
   "outputs": [
    {
     "name": "stdout",
     "output_type": "stream",
     "text": [
      "Number of classes: 2\n"
     ]
    }
   ],
   "source": [
    "import numpy as np\n",
    "\n",
    "# Assuming y_train contains your training labels\n",
    "num_classes = np.unique(y_train).shape[0]\n",
    "print(\"Number of classes:\", num_classes)"
   ]
  },
  {
   "cell_type": "code",
   "execution_count": 13,
   "metadata": {},
   "outputs": [
    {
     "name": "stdout",
     "output_type": "stream",
     "text": [
      "Epoch 1/30\n",
      "\u001b[1m9/9\u001b[0m \u001b[32m━━━━━━━━━━━━━━━━━━━━\u001b[0m\u001b[37m\u001b[0m \u001b[1m6s\u001b[0m 69ms/step - accuracy: 0.1837 - loss: 41.6567 - val_accuracy: 1.0000 - val_loss: 0.0000e+00\n",
      "Epoch 2/30\n",
      "\u001b[1m9/9\u001b[0m \u001b[32m━━━━━━━━━━━━━━━━━━━━\u001b[0m\u001b[37m\u001b[0m \u001b[1m0s\u001b[0m 9ms/step - accuracy: 0.7354 - loss: 5.6138 - val_accuracy: 1.0000 - val_loss: 0.0000e+00\n",
      "Epoch 3/30\n",
      "\u001b[1m9/9\u001b[0m \u001b[32m━━━━━━━━━━━━━━━━━━━━\u001b[0m\u001b[37m\u001b[0m \u001b[1m0s\u001b[0m 10ms/step - accuracy: 0.9519 - loss: 0.8200 - val_accuracy: 1.0000 - val_loss: 0.0000e+00\n",
      "Epoch 4/30\n",
      "\u001b[1m9/9\u001b[0m \u001b[32m━━━━━━━━━━━━━━━━━━━━\u001b[0m\u001b[37m\u001b[0m \u001b[1m0s\u001b[0m 12ms/step - accuracy: 0.9650 - loss: 0.7855 - val_accuracy: 1.0000 - val_loss: 0.0000e+00\n",
      "Epoch 5/30\n",
      "\u001b[1m9/9\u001b[0m \u001b[32m━━━━━━━━━━━━━━━━━━━━\u001b[0m\u001b[37m\u001b[0m \u001b[1m0s\u001b[0m 10ms/step - accuracy: 0.9809 - loss: 0.3458 - val_accuracy: 1.0000 - val_loss: 0.0000e+00\n",
      "Epoch 6/30\n",
      "\u001b[1m9/9\u001b[0m \u001b[32m━━━━━━━━━━━━━━━━━━━━\u001b[0m\u001b[37m\u001b[0m \u001b[1m0s\u001b[0m 16ms/step - accuracy: 0.9797 - loss: 0.8040 - val_accuracy: 1.0000 - val_loss: 0.0000e+00\n",
      "Epoch 7/30\n",
      "\u001b[1m9/9\u001b[0m \u001b[32m━━━━━━━━━━━━━━━━━━━━\u001b[0m\u001b[37m\u001b[0m \u001b[1m0s\u001b[0m 14ms/step - accuracy: 0.9886 - loss: 0.3578 - val_accuracy: 1.0000 - val_loss: 0.0000e+00\n",
      "Epoch 8/30\n",
      "\u001b[1m9/9\u001b[0m \u001b[32m━━━━━━━━━━━━━━━━━━━━\u001b[0m\u001b[37m\u001b[0m \u001b[1m0s\u001b[0m 15ms/step - accuracy: 0.9869 - loss: 0.3353 - val_accuracy: 1.0000 - val_loss: 0.0000e+00\n",
      "Epoch 9/30\n",
      "\u001b[1m9/9\u001b[0m \u001b[32m━━━━━━━━━━━━━━━━━━━━\u001b[0m\u001b[37m\u001b[0m \u001b[1m0s\u001b[0m 16ms/step - accuracy: 0.9666 - loss: 1.9710 - val_accuracy: 1.0000 - val_loss: 0.0000e+00\n",
      "Epoch 10/30\n",
      "\u001b[1m9/9\u001b[0m \u001b[32m━━━━━━━━━━━━━━━━━━━━\u001b[0m\u001b[37m\u001b[0m \u001b[1m0s\u001b[0m 9ms/step - accuracy: 0.9949 - loss: 0.4553 - val_accuracy: 1.0000 - val_loss: 0.0000e+00\n",
      "Epoch 11/30\n",
      "\u001b[1m9/9\u001b[0m \u001b[32m━━━━━━━━━━━━━━━━━━━━\u001b[0m\u001b[37m\u001b[0m \u001b[1m0s\u001b[0m 8ms/step - accuracy: 0.9748 - loss: 0.6347 - val_accuracy: 1.0000 - val_loss: 0.0000e+00\n",
      "Epoch 12/30\n",
      "\u001b[1m9/9\u001b[0m \u001b[32m━━━━━━━━━━━━━━━━━━━━\u001b[0m\u001b[37m\u001b[0m \u001b[1m0s\u001b[0m 16ms/step - accuracy: 0.9819 - loss: 1.7205 - val_accuracy: 1.0000 - val_loss: 0.0000e+00\n",
      "Epoch 13/30\n",
      "\u001b[1m9/9\u001b[0m \u001b[32m━━━━━━━━━━━━━━━━━━━━\u001b[0m\u001b[37m\u001b[0m \u001b[1m0s\u001b[0m 10ms/step - accuracy: 0.9684 - loss: 0.4737 - val_accuracy: 1.0000 - val_loss: 0.0000e+00\n",
      "Epoch 14/30\n",
      "\u001b[1m9/9\u001b[0m \u001b[32m━━━━━━━━━━━━━━━━━━━━\u001b[0m\u001b[37m\u001b[0m \u001b[1m0s\u001b[0m 12ms/step - accuracy: 0.9764 - loss: 0.4015 - val_accuracy: 1.0000 - val_loss: 0.0000e+00\n",
      "Epoch 15/30\n",
      "\u001b[1m9/9\u001b[0m \u001b[32m━━━━━━━━━━━━━━━━━━━━\u001b[0m\u001b[37m\u001b[0m \u001b[1m0s\u001b[0m 11ms/step - accuracy: 0.9853 - loss: 1.1402 - val_accuracy: 1.0000 - val_loss: 0.0000e+00\n",
      "Epoch 16/30\n",
      "\u001b[1m9/9\u001b[0m \u001b[32m━━━━━━━━━━━━━━━━━━━━\u001b[0m\u001b[37m\u001b[0m \u001b[1m0s\u001b[0m 11ms/step - accuracy: 0.9873 - loss: 0.8333 - val_accuracy: 1.0000 - val_loss: 0.0000e+00\n",
      "Epoch 17/30\n",
      "\u001b[1m9/9\u001b[0m \u001b[32m━━━━━━━━━━━━━━━━━━━━\u001b[0m\u001b[37m\u001b[0m \u001b[1m0s\u001b[0m 12ms/step - accuracy: 0.9778 - loss: 0.5248 - val_accuracy: 1.0000 - val_loss: 0.0000e+00\n",
      "Epoch 18/30\n",
      "\u001b[1m9/9\u001b[0m \u001b[32m━━━━━━━━━━━━━━━━━━━━\u001b[0m\u001b[37m\u001b[0m \u001b[1m0s\u001b[0m 9ms/step - accuracy: 0.9766 - loss: 0.7172 - val_accuracy: 1.0000 - val_loss: 0.0000e+00\n",
      "Epoch 19/30\n",
      "\u001b[1m9/9\u001b[0m \u001b[32m━━━━━━━━━━━━━━━━━━━━\u001b[0m\u001b[37m\u001b[0m \u001b[1m0s\u001b[0m 12ms/step - accuracy: 0.9801 - loss: 0.8496 - val_accuracy: 1.0000 - val_loss: 0.0000e+00\n",
      "Epoch 20/30\n",
      "\u001b[1m9/9\u001b[0m \u001b[32m━━━━━━━━━━━━━━━━━━━━\u001b[0m\u001b[37m\u001b[0m \u001b[1m0s\u001b[0m 10ms/step - accuracy: 0.9866 - loss: 0.1968 - val_accuracy: 1.0000 - val_loss: 0.0000e+00\n",
      "Epoch 21/30\n",
      "\u001b[1m9/9\u001b[0m \u001b[32m━━━━━━━━━━━━━━━━━━━━\u001b[0m\u001b[37m\u001b[0m \u001b[1m0s\u001b[0m 12ms/step - accuracy: 0.9904 - loss: 0.0911 - val_accuracy: 1.0000 - val_loss: 0.0000e+00\n",
      "Epoch 22/30\n",
      "\u001b[1m9/9\u001b[0m \u001b[32m━━━━━━━━━━━━━━━━━━━━\u001b[0m\u001b[37m\u001b[0m \u001b[1m0s\u001b[0m 9ms/step - accuracy: 0.9804 - loss: 0.1509 - val_accuracy: 1.0000 - val_loss: 0.0000e+00\n",
      "Epoch 23/30\n",
      "\u001b[1m9/9\u001b[0m \u001b[32m━━━━━━━━━━━━━━━━━━━━\u001b[0m\u001b[37m\u001b[0m \u001b[1m0s\u001b[0m 9ms/step - accuracy: 0.9760 - loss: 1.1876 - val_accuracy: 1.0000 - val_loss: 0.0000e+00\n",
      "Epoch 24/30\n",
      "\u001b[1m9/9\u001b[0m \u001b[32m━━━━━━━━━━━━━━━━━━━━\u001b[0m\u001b[37m\u001b[0m \u001b[1m0s\u001b[0m 12ms/step - accuracy: 0.9977 - loss: 0.2204 - val_accuracy: 1.0000 - val_loss: 0.0000e+00\n",
      "Epoch 25/30\n",
      "\u001b[1m9/9\u001b[0m \u001b[32m━━━━━━━━━━━━━━━━━━━━\u001b[0m\u001b[37m\u001b[0m \u001b[1m0s\u001b[0m 12ms/step - accuracy: 0.9993 - loss: 0.1043 - val_accuracy: 1.0000 - val_loss: 0.0000e+00\n",
      "Epoch 26/30\n",
      "\u001b[1m9/9\u001b[0m \u001b[32m━━━━━━━━━━━━━━━━━━━━\u001b[0m\u001b[37m\u001b[0m \u001b[1m0s\u001b[0m 11ms/step - accuracy: 0.9892 - loss: 0.5280 - val_accuracy: 1.0000 - val_loss: 0.0000e+00\n",
      "Epoch 27/30\n",
      "\u001b[1m9/9\u001b[0m \u001b[32m━━━━━━━━━━━━━━━━━━━━\u001b[0m\u001b[37m\u001b[0m \u001b[1m0s\u001b[0m 26ms/step - accuracy: 0.9828 - loss: 0.8684 - val_accuracy: 1.0000 - val_loss: 0.0000e+00\n",
      "Epoch 28/30\n",
      "\u001b[1m9/9\u001b[0m \u001b[32m━━━━━━━━━━━━━━━━━━━━\u001b[0m\u001b[37m\u001b[0m \u001b[1m0s\u001b[0m 13ms/step - accuracy: 0.9877 - loss: 0.5117 - val_accuracy: 1.0000 - val_loss: 0.0000e+00\n",
      "Epoch 29/30\n",
      "\u001b[1m9/9\u001b[0m \u001b[32m━━━━━━━━━━━━━━━━━━━━\u001b[0m\u001b[37m\u001b[0m \u001b[1m0s\u001b[0m 11ms/step - accuracy: 0.9746 - loss: 0.5255 - val_accuracy: 1.0000 - val_loss: 0.0000e+00\n",
      "Epoch 30/30\n",
      "\u001b[1m9/9\u001b[0m \u001b[32m━━━━━━━━━━━━━━━━━━━━\u001b[0m\u001b[37m\u001b[0m \u001b[1m0s\u001b[0m 12ms/step - accuracy: 0.9874 - loss: 0.3448 - val_accuracy: 1.0000 - val_loss: 0.0000e+00\n"
     ]
    }
   ],
   "source": [
    "# Train the model (assuming X_train and y_train are your training data)\n",
    "history = model.fit(X_train, y_train, validation_split=0.2, epochs=30, batch_size=32)"
   ]
  },
  {
   "cell_type": "code",
   "execution_count": 14,
   "metadata": {},
   "outputs": [
    {
     "name": "stdout",
     "output_type": "stream",
     "text": [
      "\u001b[1m3/3\u001b[0m \u001b[32m━━━━━━━━━━━━━━━━━━━━\u001b[0m\u001b[37m\u001b[0m \u001b[1m0s\u001b[0m 7ms/step - accuracy: 0.9825 - loss: 1.9342 \n",
      "Test Accuracy: 0.9883720874786377\n"
     ]
    }
   ],
   "source": [
    "import numpy as np\n",
    "\n",
    "# Evaluate the model on the test set\n",
    "test_loss, test_accuracy = model.evaluate(X_test, y_test)\n",
    "print(\"Test Accuracy:\", test_accuracy)"
   ]
  },
  {
   "cell_type": "code",
   "execution_count": 15,
   "metadata": {},
   "outputs": [
    {
     "name": "stderr",
     "output_type": "stream",
     "text": [
      "WARNING:absl:You are saving your model as an HDF5 file via `model.save()` or `keras.saving.save_model(model)`. This file format is considered legacy. We recommend using instead the native Keras format, e.g. `model.save('my_model.keras')` or `keras.saving.save_model(model, 'my_model.keras')`. \n"
     ]
    }
   ],
   "source": [
    "# Save the model\n",
    "model.save(\"model.h5\")"
   ]
  },
  {
   "cell_type": "code",
   "execution_count": 16,
   "metadata": {},
   "outputs": [
    {
     "data": {
      "text/plain": [
       "['label_encoder_Y_classes.joblib']"
      ]
     },
     "execution_count": 16,
     "metadata": {},
     "output_type": "execute_result"
    }
   ],
   "source": [
    "from joblib import dump\n",
    "\n",
    "# Save the label encoder classes\n",
    "for col, encoder in label_encoder_X.items():\n",
    "    dump(encoder, f'label_encoder_{col}_classes.joblib')\n",
    "    \n",
    "dump(label_encoder_Y, 'label_encoder_Y_classes.joblib')"
   ]
  },
  {
   "cell_type": "code",
   "execution_count": 17,
   "metadata": {},
   "outputs": [],
   "source": [
    "import pickle\n",
    "\n",
    "# Save the label encoder to a file\n",
    "with open('label_encoder_X.pkl', 'wb') as f:\n",
    "    pickle.dump(label_encoder_X, f)"
   ]
  },
  {
   "cell_type": "code",
   "execution_count": 18,
   "metadata": {},
   "outputs": [],
   "source": [
    "import pickle\n",
    "\n",
    "# Save the label encoder to a file\n",
    "with open('label_encoder_Y.pkl', 'wb') as f:\n",
    "    pickle.dump(label_encoder_Y, f)"
   ]
  },
  {
   "cell_type": "code",
   "execution_count": 19,
   "metadata": {},
   "outputs": [
    {
     "name": "stdout",
     "output_type": "stream",
     "text": [
      "Classes for AnimalName: ['Birds' 'Black-tailed deer' 'Deer' 'Dog' 'Dogs' 'Duck' 'Elephant' 'Elk'\n",
      " 'Fowl' 'Horse' 'Lion' 'Monkey' 'Mule deer' 'Owl' 'Rabbit' 'Snake' 'Tiger'\n",
      " 'Turtle' 'White-tailed deer' 'cat' 'mules']\n",
      "Classes for Symptoms1: ['Abortion' 'Abortion at the end of gestation' 'Abortion on late pregancy'\n",
      " 'Air sacculitis' 'Allergic Reaction' 'Apathy' 'Appetite varies' 'Attacks'\n",
      " 'Bad breath' 'Balance problem' 'Bald patches'\n",
      " 'Bleeding from other parts of the body' 'Blood from mouth'\n",
      " 'Blood in urine' 'Blood stool' 'Bloody Urine' 'Bony Lesion'\n",
      " 'Bubbles in the mouth' 'Changes in outer layer skin' 'Constant pacing'\n",
      " 'Continuous loss of weight' 'Convulsion' 'Dark or black face'\n",
      " 'Decreased milk' 'Dejection' 'Diarrhea with muscus'\n",
      " 'Difficulty in breathing' 'Difficulty in feeding' 'Discharge From eyes'\n",
      " 'Discomfort' 'Drooping ears' 'Dullness' 'Dyspnea' 'Egg production stops'\n",
      " 'Emaciation' 'Enlarged Thymus' 'Excessive eye watering' 'Excitability'\n",
      " 'Exessive Urination' 'Extreme thirst' 'Eye redness' 'Facial Swelling'\n",
      " 'Facial edema' 'Fatty stool' 'Feather Loss' 'Fetopelvic dispropotion'\n",
      " 'Fever' 'Floopy muscle' 'Fluffed Feather'\n",
      " 'Fluif Faeces on blood and muscle' 'Forthy eye' 'Gas' 'Gasc' 'Gasping'\n",
      " 'General malaise' 'Greenish-yellow nasal discharge' 'Hair loss'\n",
      " 'Heavy Breathing' 'Heavy infection' 'Hemopytsis' 'Immediate death'\n",
      " 'Inability to stand' 'Inappentence' 'Indigestion' 'Jaundice'\n",
      " 'Labored breathing' 'Lack of walking' 'Legness' 'Lepatomegaly'\n",
      " 'Lesions in the nasal cavity' 'Lession on cat skin' 'Lethargy' 'Limping'\n",
      " 'Liquid Dropping' 'Listless' 'Loss od appetite' 'Loss of activity'\n",
      " 'Loss of appetite' 'Loss of eat' 'Mortality' 'Most often none'\n",
      " 'Nasal Bleeding' 'Nasal discharge' 'Nausea' 'Normal appetite'\n",
      " 'NosebleedÂ\\xa0' 'Oedema' 'Overweight' 'Pale comb' 'Partial Paralysis'\n",
      " 'Passing of undigested food' 'Pnemonia' 'Polyuria' 'Poor coat apperence'\n",
      " 'Poor condition' 'Poor growth' 'Puffed up Feather' 'Red Tinge'\n",
      " 'Red on affected area' 'Restlessness' 'Rhinitis' 'Ring shaped Lesion'\n",
      " 'Ruffled Appearance' 'Runny nose' 'Scabs On feet' 'Scaly patches of skin'\n",
      " 'Sensitivity to bright light' 'Severe' 'Shaking head' 'Shallow breathing'\n",
      " 'Sharp Feather' 'Short term lethargy' 'Shortness of breath' 'Sickness'\n",
      " 'Sinuses' 'Skin infection' 'Skin irritation' 'Skin rashes'\n",
      " 'Small red bumps' 'Smell' 'Sneezing' 'Sores on lip' 'Straining'\n",
      " 'Stripped remiges' 'Strong cough' 'Sudden death' 'Swelling of udder'\n",
      " 'Swelling on leg' 'Swollen lymph nodes' 'Tail Wagging' 'Tenderness'\n",
      " 'Thick Crusting' 'Thicked skin' 'Tremor of head and neck' 'Ulcers'\n",
      " 'Undigested in their feces' 'Upset stomach' 'Vomiting' 'Watering'\n",
      " 'Watering Diarrhea' 'Watery Eyes' 'Weakness' 'Wether restless' 'Wheezing'\n",
      " 'burning ache or pain' 'changed gait' 'cough' 'coughÂ\\xa0'\n",
      " 'difficulty swallowing' 'egg production decreases' 'extending its neck'\n",
      " 'eye discharges' 'feline infections' 'fever' 'head tilt' 'loss in weight'\n",
      " 'loss of appetite' 'nausea' 'paresis' 'stop eating' 'sudden death'\n",
      " 'sweating' 'swelling' 'swollen' 'unable to urinate' 'undernutrition'\n",
      " 'wasting' 'weight loss']\n",
      "Classes for Symptoms2: ['Abdminal pain' 'Abdominal destention' 'Abortion' 'Animal become lame'\n",
      " 'Anoxeria' 'Ataxia' 'Blindness' 'Bloody Drool' 'Bloody diarrhea'\n",
      " 'Body stiffness' 'Bottle jaw' 'Broody behavior' 'Change in gait' 'Chills'\n",
      " 'Chronic eye inflamation' 'Clubbed Feather' 'Convulsion' 'Dandruff'\n",
      " 'Dandruff in cat coat' 'Dark colored bloody' 'Death' 'Depression'\n",
      " 'Diarrhea' 'Diffculty breathing' 'Difficultty in Breathing'\n",
      " 'Difficulty breathing' 'Difficulty in breathing' 'Difficulty walking'\n",
      " 'Diffulty Swallowing' 'Diffulty chewing' 'Disharge from affected eye'\n",
      " 'Distress' 'Dull' 'Dysentery' 'Dyspnea' 'Edema in lower jaw'\n",
      " 'Enlarged lymph nodes' 'Epistaxis' 'Erythema' 'Exhaustion' 'Eye closed'\n",
      " 'Eye redness' 'Eye ulcer' 'Facial muscle twitching' 'Fatigue'\n",
      " 'Feather Plucking' 'Fell unwell' 'Frequent eye Infections' 'Hair loss'\n",
      " 'Hair tining' 'Halitosis' 'Heat' 'Hemolytic anemia' 'Hepatic failure'\n",
      " 'Hepatitis' 'Holding limbs off the ground' 'Horny growth' 'Infection'\n",
      " 'Inflammed eye' 'Itchiness' 'Kicking' 'Lack of coordination'\n",
      " 'Lack of flying' 'Lack of pigmentation' 'Lacrimation' 'Lame' 'Lesions'\n",
      " 'Lesions ' 'Lesions on nose' 'Less Eat' 'Less Feather growth' 'Lethargy'\n",
      " 'LightheadednessÂ\\xa0' 'Loss of  appetite' 'Loss of Appetite'\n",
      " 'Loss of appetite' 'Loss of consciousness' 'Loss of earing' 'Malaise'\n",
      " 'Mild sneezing' 'Mummification' 'Muscle Loss' 'Nasal discharge'\n",
      " 'Nervousness' 'Neurologic sign' 'No appp' 'Nosebleeds' 'Obstructed Lungs'\n",
      " 'Painfull' 'Pains to Walk' 'Paresis' 'Pawing at the face or nose'\n",
      " 'PneumoniaÂ\\xa0' 'Poor appetite' 'Poor coat condition'\n",
      " 'Pox lession on skin' 'Preening' 'Rapid Breathing' 'Redness'\n",
      " 'Regurgitation of food' 'Respiratory distress' 'Rhinorrhea' 'Rough coat'\n",
      " 'Round patches' 'Runny nose' 'Scartching' 'Scartching ear'\n",
      " 'Secondary Infection' 'Seizures' 'Severe headache' 'Short stature'\n",
      " 'Skin Rashes' 'Slightly Swollen' 'Slim over the shell'\n",
      " 'Small and yellow bumps' 'Sneezing' 'Sore' 'Sour Throat' 'Speech delay'\n",
      " 'Splenomegaly' 'Staggering as drunk' 'Stiffness' 'Stillbirth' 'Straining'\n",
      " 'Succumb' 'Sudden Death' 'Swelling' 'Swelling  in the bite area'\n",
      " 'Swelling of eye' 'Swelling of face or leg' 'Swollen Eyelids' 'Tensemus'\n",
      " 'Tiredness' 'Torticollis' 'Trauma' 'Trouble walking'\n",
      " 'Uncharacteristic hiding' 'Unilateral Nasal discharge' 'Uteria inertia'\n",
      " 'Weakness' 'Weekness' 'Wheezing' 'Willnot run to jump' 'Wound lesion'\n",
      " 'Yellow in beak' 'bloody discharge' 'change in milk' 'confusion'\n",
      " 'coughingÂ\\xa0' 'coughÂ\\xa0' 'diarrhea' 'drinking polluted water'\n",
      " 'dull ness' 'emaciation' 'gasping for air' 'high body temperaure'\n",
      " 'high temperature' 'lathargy' 'loss of appetite' 'lymphosarcoma'\n",
      " 'mild colic' 'muscular spasms' 'nasal discharge' 'paralysis'\n",
      " 'red-colored' 'sneeze' 'stop drinking' 'stumbling' 'stunted growth'\n",
      " 'swelling problem' 'thirst' 'vomiting' 'weakened legs']\n",
      "Classes for Symptoms3: ['Abdominal discomfort' 'Abdominal pain' 'Aggressiveness' 'Asymptomatic'\n",
      " 'Ataxia' 'Attack' 'Back Pain' 'Bad smell' 'Black on ear' 'Blindness'\n",
      " 'Blood in stool' 'Blood on faces' 'Blooody Fluid' 'Blue colored lip'\n",
      " 'Blue straws' 'Bottle Jaw' 'Congestion' 'Conjuctivtis' 'Constipation'\n",
      " 'Coughing' 'Crusty' 'Crusty eye lashes and matting of eyelashes'\n",
      " 'Darkened skin' 'Death' 'Decreased appetite' 'Depression' 'Diarrhea'\n",
      " 'Difficulty in Swallowing' 'Dilation of duodenum' 'Dribbling of saliva'\n",
      " 'Drooling' 'Dry or dull hair' 'Dry skin' 'Ear infection' 'Emaciation'\n",
      " 'Enlargement of bones' 'Enteritis' 'Excess salivary' 'Excessive drooling'\n",
      " 'Eye disharge' 'Eyeproblem' 'Fever' 'Foul Breath' 'Gagging' 'Hair loss'\n",
      " 'Hardness' 'Headache' 'Hemoglobinuria' 'Hind quarted soil' 'Hydrophobia'\n",
      " 'Incoordination' 'Infection of the skin' 'Inflammation'\n",
      " 'Intellectual disability' 'Kicking at the belly' 'Kidney failure'\n",
      " 'Lession on the skin' 'Lethargy' 'Loss of appetite' 'Loss of pigment'\n",
      " 'Malpresentation' 'Mortality' 'Mucous discharge' 'Muscle weakness'\n",
      " 'Nasal Discharge' 'Nasal discharge' 'Nause' 'Neck Paralysis'\n",
      " 'Normal appetite' 'Nose Bleeds' 'Occular discharge' 'Paralysis'\n",
      " 'Poor Appetite' 'Prostrat' 'Red patches' 'Reduce Energy'\n",
      " 'Relunctance to move' 'Respiratory distress' 'Retained Placenda'\n",
      " 'Retarded Growth' 'Roughened' 'Ruffled feathers' 'Scabs' 'Seizuers'\n",
      " 'Self Mutilation' 'Septic Arthritis' 'Severe colic' 'Skeleten pain'\n",
      " 'Skin rashes' 'Skin reashes' 'Skin ulcer' 'Sluggish' 'Sneezing'\n",
      " 'Sores on lower leg and teats' 'Stand with head droping' 'Stillbirth'\n",
      " 'Stress' 'Sudden death' 'Sweat' 'Swelling' 'Swelling '\n",
      " 'Swelling may occur under jaw' 'Swelling of neck' 'Swollen'\n",
      " 'Swollen Abdomen' 'Swollen kidney' 'Tail Bobbing' 'Thrist and urination'\n",
      " 'Trachea' 'Trembling' 'Tremors of the head'\n",
      " 'Vitamin and minerals defiency' 'Vomiting' 'Wart-like growth'\n",
      " 'Watery Stool' 'Weakness' 'Weekness in the back legs' 'Weight loss'\n",
      " 'Yellow Eye' 'abnormalalities' 'abortion' 'abscessess'\n",
      " 'bleeding from wounds' 'change their normal behaviour' 'chewing'\n",
      " 'chirping' 'coughÂ\\xa0' 'difficulty breating' 'difficulty swallowing'\n",
      " 'diffuse' 'drooling' 'droopiness' 'droopy wings' 'gasping for breath'\n",
      " 'hot udder' 'inappetence' 'inflamed nostrils' 'lack of appetite'\n",
      " 'lathargy' 'listlessness' 'los of the ability to walk' 'loss of appetite'\n",
      " 'loss of tail tone' 'mild weakness' 'muscles problem'\n",
      " 'muscular stiffness' 'rapid pulse and heart rates' 'respiratory noise'\n",
      " 'ruffled feathers' 'swollen purple wattle' 'swollen teats' 'thirst'\n",
      " 'weak calves' 'weakness' 'wheezing' 'Â\\xa0rapid heartbeats']\n",
      "Classes for Symptoms4: ['Acting aggressive' 'Aneamia' 'Animal stop feed' 'Anorexia' 'Appetite'\n",
      " 'Attempt to urinate' 'Bad smell' 'Beak overgrowth' 'Bite other animals'\n",
      " 'Blindness' 'Blood from mouth' 'Blood in faces' 'Bloody discharge'\n",
      " 'Broken Bones' 'Chest Pain' 'Cloacal pasting' 'Closed eyes'\n",
      " 'Clouded cornea' 'Colic' 'Coughing' 'Cramps' 'Crusting of the skin'\n",
      " 'Death' 'Defienciency in vitamin' 'Dehydration' 'Depression' 'Diarrhea'\n",
      " 'Difficult in walking' 'Difficulty in breathing' 'Discharge from eye'\n",
      " 'Distinctive bumps' 'Dry Scabs' 'Dyspnea' 'Easily damage shell'\n",
      " 'Endomeritis' 'Enteritis' 'Excess sleeping' 'Excessive food intake'\n",
      " 'Exercise in tolerance' 'Exhaustion' 'Eye and Skin change' 'Facial edema'\n",
      " 'Firm' 'Flaky' 'Flatulence' 'Gas or bloating' 'Green Dropping'\n",
      " 'Grinding teeth' 'Hair loss' 'Half-closed eye' 'Head ache' 'Hematuria'\n",
      " 'Hyper sensitivity' 'Hyperesthesia' 'Immediate death'\n",
      " 'Inability of Swalllon Feeding' 'Inflammation of eye' 'Itching'\n",
      " 'Jaw is dropped' 'Join pains' 'Lameness' 'Lesion' 'Lethargy' 'Limp'\n",
      " 'Liver disease' 'Loss of powder down' 'Lumps' 'Mammary glads'\n",
      " 'Milk getting out more watery' 'Milky Hard' 'Mouth lesion'\n",
      " 'Mucus discharge from the eye' 'Muscle aches' 'Muscle pain' 'Nasal'\n",
      " 'Nasal discharge' 'Nausea' 'Noisy Breathing' 'Nose picking' 'Pain'\n",
      " 'Painfull Swalling' 'Pot belly' 'Pox lesion' 'Progressive weakness'\n",
      " 'Rapid Heart Rate' 'Red Diarrhea' 'Red skin' 'Redness' 'Reduce feed'\n",
      " 'Retching' 'Ruffled Coat' 'Salivation' 'Scabbing' 'Scartch'\n",
      " 'Severe inflammation' 'Shivering' 'Size of lesions vary' 'Skin infection'\n",
      " 'Skin rashes' 'Sneezing' 'Staggering' 'Stiffness' 'Stomach cramps'\n",
      " 'Stomach growling' 'Stumbling' 'Swallowing' 'Swelling' 'Swollen'\n",
      " 'Swollen comb' 'Swolling of joint' 'Tarry Stool' 'Tender to touch'\n",
      " 'Thickening of skin' 'Tiredness' 'Torticollis' 'Twitching'\n",
      " 'Unable To Eat' 'Urine retention' 'Vomiting' 'Walking problem' 'Wasting'\n",
      " 'Watery eye' 'Weak kids' 'Weakness' 'Week legs' 'Weight loss'\n",
      " 'White mark on the muscle' 'diarrhea' 'difficulty diagnosis'\n",
      " 'difficulty swallowing' 'drooling' 'droopy wings'\n",
      " 'experiencing changes in weight' 'fluffed feathers'\n",
      " 'foul smelling stools' 'frequent yawning' 'gasping for air'\n",
      " 'gasping for breath' 'gurgling sound' 'high body temperature'\n",
      " 'inability to fly' 'lameness in affected leg' 'loss of alertness'\n",
      " 'loss of appetite' 'pain' 'pain ' 'pulmonary congestion'\n",
      " 'rectal bleeding' 'self-isolation' 'stomatitis' 'swollen lymph nodes'\n",
      " 'tiredness' 'twisted neck' 'urine dribbling' 'weakness']\n",
      "Classes for Symptoms5: ['Abdonormal discomfort' 'Abdonormal pain' 'Abnormal behaviour'\n",
      " 'Abnormalities' 'Acting unnaturally tame' 'Anaemia' 'Anemia' 'Anorexia'\n",
      " 'Arthritis' 'Ataxia' 'Black stool' 'Bleeding from the nose'\n",
      " 'Bleeding in eye and skin' 'Blindness' 'Bloody' 'Bloody in feather'\n",
      " 'Blue Eye' 'Bumps(black,grey or red)' 'Chest Pain' 'Congestion'\n",
      " 'Constipation' 'Convulsion' 'Decrease appetite'\n",
      " 'Decrease in milk production' 'Dehydration' 'Depression' 'Diarrhea'\n",
      " 'Difficulty in Breathing' 'Diphtherictic' 'Distended chest'\n",
      " 'Distended stomach' 'Drop in milk production' 'Dry Hair coat' 'Dry air'\n",
      " 'Dyspnea' 'Effort to breath' 'Emaciation' 'Enlarged lymph nodes'\n",
      " 'Enlarged lymph nodes or Swelling' 'Epistaxis' 'Eventually death'\n",
      " 'Excessive grooming' 'Eye closed' 'Eye movements' 'Eye redness'\n",
      " 'Facial paralysis' 'Facial swelling' 'Faeces are streake with blood'\n",
      " 'Fatique' 'Flaking of the Scutes' 'Fluif filled blisters' 'Folded Ears'\n",
      " 'Frequent eye Infections' 'Hair loss' 'Inability to absorb nutrients'\n",
      " 'Inability to jump' 'Infection' 'Itchiness' 'Jaundice' 'Joint Pain'\n",
      " 'Lameness' 'Lesions on ear' 'Lesions on nose' 'Lethargy' 'Limping'\n",
      " 'Listlessness' 'Loss of appettite' 'Loss of vitamin E' 'Lossened Teeth'\n",
      " 'Lound breathing' 'Milk getting out more thick' 'Milk reduce'\n",
      " 'Misshapen Beak' 'Moist and painfull' 'Mortality varies' 'Muscle aches'\n",
      " 'Muscle pain' 'Muscle stiffness' 'Nasal Discharge' 'Nausea'\n",
      " 'Nervous Issue' 'Neurologic abnormalities' 'Nuerological'\n",
      " 'Obscure Lameness' 'Ocular discharge' 'Oxygen defiency' 'Pain'\n",
      " 'Pain on face' 'Pain on leg' 'Pains' 'Pale gums'\n",
      " 'Papules appear on teats anad udder' 'Periodic vommiting' 'Pharyngitis'\n",
      " 'Pink eye' 'Polydipsa' 'Raised growth or bump' 'Red and inflammation ear'\n",
      " 'Red lesion from bald patches' 'Respiratory infection' 'Rubbing eye'\n",
      " 'Salivating' 'Seizures' 'Septicemia' 'Severe weekness and depression'\n",
      " 'Shaking oh head' 'Shock' 'Shortness of breath' 'Shyness or aggression'\n",
      " 'Skin issue' 'Sleeping Excessively' 'Sneezing' 'Snoring' 'Stiffness'\n",
      " 'Stomach  cramps' 'Stopped eat' 'Sudden death'\n",
      " 'Swelling of internal organs' 'Swelling of joints' 'Swollen and painfull'\n",
      " 'Terminal convulsion' 'Throat and Ear pain' 'Ulcerated skin'\n",
      " 'Unable to exercise' 'Undigested seeds' 'Vaginal Discharge'\n",
      " 'Vision Problem' 'Vomitting' 'Wasting' 'Weakness' 'Week pulse'\n",
      " 'Weight gain' 'Weight loss' 'Weightloss' 'Weigth bearing long bones'\n",
      " 'Wool production' 'anaemia' 'anorexia' 'depression' 'diarrhoea'\n",
      " 'difficulty moving and eating' 'dizziness and fainting' 'drooping ears'\n",
      " 'droopy wings' 'extending its neck' 'fever' 'gasping for breath'\n",
      " 'inability to rise' 'lack of vocalizations' 'lameness'\n",
      " 'loss ofÂ\\xa0wariness' 'recumbency' 'sudden death' 'swollen abdomen'\n",
      " 'trembling' 'twisted neck' 'urination problem'\n",
      " 'Â\\xa0increased passing gas' 'Â\\xa0pain and bloating']\n",
      "Classes for AnimalGroup: ['Aves' 'Ectotherms' 'Mammals']\n",
      "Classes for DielActivity: ['Diurnal' 'Nocturnal']\n",
      "Classes for Y: ['No' 'Yes']\n"
     ]
    }
   ],
   "source": [
    "from joblib import load\n",
    "\n",
    "# Load the label encoder classes\n",
    "label_encoder_X_classes = {}\n",
    "for col in ['AnimalName', 'Symptoms1', 'Symptoms2', 'Symptoms3', 'Symptoms4', 'Symptoms5', 'AnimalGroup', 'DielActivity']:\n",
    "    label_encoder_X_classes[col] = load(f'label_encoder_{col}_classes.joblib')\n",
    "label_encoder_Y_classes = load('label_encoder_Y_classes.joblib')\n",
    "\n",
    "# Print the classes for each feature\n",
    "for col, encoder in label_encoder_X_classes.items():\n",
    "    print(f'Classes for {col}: {encoder.classes_}')\n",
    "\n",
    "print(f'Classes for Y: {label_encoder_Y_classes.classes_}')"
   ]
  },
  {
   "cell_type": "code",
   "execution_count": 20,
   "metadata": {},
   "outputs": [
    {
     "name": "stdout",
     "output_type": "stream",
     "text": [
      "\u001b[1m1/1\u001b[0m \u001b[32m━━━━━━━━━━━━━━━━━━━━\u001b[0m\u001b[37m\u001b[0m \u001b[1m0s\u001b[0m 122ms/step\n",
      "IS it dangerous: Yes\n"
     ]
    }
   ],
   "source": [
    "import numpy as np\n",
    "\n",
    "# Function to preprocess input data for testing\n",
    "def preprocess_input(input_data, label_encoders_X):\n",
    "    encoded_input = []\n",
    "    for col, value in input_data.items():\n",
    "        if col in label_encoder_X:\n",
    "            # Use the corresponding LabelEncoder to transform feature variables\n",
    "            encoded_input.append(label_encoder_X[col].transform([value])[0])\n",
    "        else:\n",
    "            # If the column is not categorical, use the value as is\n",
    "            encoded_input.append(value)\n",
    "    return np.array(encoded_input).reshape(1, -1)\n",
    "\n",
    "# Define input data for testing\n",
    "input_data = {\n",
    "    'AnimalName': 'Elephant',\n",
    "    'Symptoms1': 'Indigestion',\n",
    "    'Symptoms2': 'Infection',\n",
    "    'Symptoms3': 'Drooling',\n",
    "    'Symptoms4': 'Appetite',\n",
    "    'Symptoms5': 'Muscle stiffness',\n",
    "    'AnimalGroup': 'Ectotherms',\n",
    "    'DielActivity': 'Nocturnal',\n",
    "    'MeanBodyTemperature': 41.5\n",
    "}\n",
    "\n",
    "# Preprocess input data for testing\n",
    "preprocessed_input = preprocess_input(input_data, label_encoder_X)\n",
    "\n",
    "# Make predictions using the trained model\n",
    "predictions = model.predict(preprocessed_input)\n",
    "\n",
    "# Get the predicted class\n",
    "predicted_class_index = np.argmax(predictions)\n",
    "predicted_class = label_encoder_Y.classes_[predicted_class_index]\n",
    "\n",
    "print(\"IS it dangerous:\", predicted_class)\n"
   ]
  }
 ],
 "metadata": {
  "kernelspec": {
   "display_name": "animaldetect",
   "language": "python",
   "name": "python3"
  },
  "language_info": {
   "codemirror_mode": {
    "name": "ipython",
    "version": 3
   },
   "file_extension": ".py",
   "mimetype": "text/x-python",
   "name": "python",
   "nbconvert_exporter": "python",
   "pygments_lexer": "ipython3",
   "version": "3.11.4"
  }
 },
 "nbformat": 4,
 "nbformat_minor": 2
}
